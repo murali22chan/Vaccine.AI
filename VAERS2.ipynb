{
  "nbformat": 4,
  "nbformat_minor": 0,
  "metadata": {
    "colab": {
      "name": "VAERS2",
      "provenance": [],
      "collapsed_sections": [],
      "authorship_tag": "ABX9TyNLOOwufHlMKlDZGcJxochX"
    },
    "kernelspec": {
      "name": "python3",
      "display_name": "Python 3"
    },
    "language_info": {
      "name": "python"
    }
  },
  "cells": [
    {
      "cell_type": "code",
      "metadata": {
        "colab": {
          "base_uri": "https://localhost:8080/"
        },
        "id": "4MW7S_Pm42M8",
        "outputId": "d9af16b2-ebdd-41de-fbec-83310d3fcd90"
      },
      "source": [
        "!wget \"https://github.com/XxAnirudh-RameshxX/Vaccine-side-effect-detection/raw/main/VAERS_processed.csv\""
      ],
      "execution_count": null,
      "outputs": [
        {
          "output_type": "stream",
          "text": [
            "--2021-04-30 20:44:31--  https://github.com/XxAnirudh-RameshxX/Vaccine-side-effect-detection/raw/main/VAERS_processed.csv\n",
            "Resolving github.com (github.com)... 192.30.255.112\n",
            "Connecting to github.com (github.com)|192.30.255.112|:443... connected.\n",
            "HTTP request sent, awaiting response... 302 Found\n",
            "Location: https://raw.githubusercontent.com/XxAnirudh-RameshxX/Vaccine-side-effect-detection/main/VAERS_processed.csv [following]\n",
            "--2021-04-30 20:44:31--  https://raw.githubusercontent.com/XxAnirudh-RameshxX/Vaccine-side-effect-detection/main/VAERS_processed.csv\n",
            "Resolving raw.githubusercontent.com (raw.githubusercontent.com)... 185.199.109.133, 185.199.110.133, 185.199.108.133, ...\n",
            "Connecting to raw.githubusercontent.com (raw.githubusercontent.com)|185.199.109.133|:443... connected.\n",
            "HTTP request sent, awaiting response... 200 OK\n",
            "Length: 9037565 (8.6M) [text/plain]\n",
            "Saving to: ‘VAERS_processed.csv’\n",
            "\n",
            "VAERS_processed.csv 100%[===================>]   8.62M  33.2MB/s    in 0.3s    \n",
            "\n",
            "2021-04-30 20:44:32 (33.2 MB/s) - ‘VAERS_processed.csv’ saved [9037565/9037565]\n",
            "\n"
          ],
          "name": "stdout"
        }
      ]
    },
    {
      "cell_type": "code",
      "metadata": {
        "id": "IIra4iV85FzY"
      },
      "source": [
        "import pandas as pd\n",
        "import gzip\n",
        "from sklearn.preprocessing import OrdinalEncoder\n",
        "import numpy as np\n",
        "import matplotlib.pyplot as plt\n",
        "import tensorflow as tf\n",
        "import keras\n",
        "from keras.models import Sequential\n",
        "from keras.layers import Dense, Dropout\n",
        "from keras.optimizers import SGD, RMSprop\n",
        "from sklearn.model_selection import train_test_split"
      ],
      "execution_count": null,
      "outputs": []
    },
    {
      "cell_type": "code",
      "metadata": {
        "colab": {
          "base_uri": "https://localhost:8080/"
        },
        "id": "oR8FiEiOiiFy",
        "outputId": "c0c5af62-ed37-461e-be11-9d652b51cf25"
      },
      "source": [
        "!wget \"https://snap.stanford.edu/biodata/datasets/10021/files/D-DoMiner_miner-diseaseDOID.tsv.gz\"\n",
        "with gzip.open(\"D-DoMiner_miner-diseaseDOID.tsv.gz\") as f:\n",
        "    df = pd.read_csv(f, sep='\\t')\n",
        "l=list(df[\"Name\"])\n",
        "len(l)"
      ],
      "execution_count": null,
      "outputs": [
        {
          "output_type": "stream",
          "text": [
            "--2021-04-30 20:44:35--  https://snap.stanford.edu/biodata/datasets/10021/files/D-DoMiner_miner-diseaseDOID.tsv.gz\n",
            "Resolving snap.stanford.edu (snap.stanford.edu)... 171.64.75.80\n",
            "Connecting to snap.stanford.edu (snap.stanford.edu)|171.64.75.80|:443... connected.\n",
            "HTTP request sent, awaiting response... 200 OK\n",
            "Length: 430481 (420K) [application/x-gzip]\n",
            "Saving to: ‘D-DoMiner_miner-diseaseDOID.tsv.gz’\n",
            "\n",
            "D-DoMiner_miner-dis 100%[===================>] 420.39K  1.22MB/s    in 0.3s    \n",
            "\n",
            "2021-04-30 20:44:36 (1.22 MB/s) - ‘D-DoMiner_miner-diseaseDOID.tsv.gz’ saved [430481/430481]\n",
            "\n"
          ],
          "name": "stdout"
        },
        {
          "output_type": "execute_result",
          "data": {
            "text/plain": [
              "9247"
            ]
          },
          "metadata": {
            "tags": []
          },
          "execution_count": 3
        }
      ]
    },
    {
      "cell_type": "code",
      "metadata": {
        "colab": {
          "base_uri": "https://localhost:8080/",
          "height": 563
        },
        "id": "B3WOe2FH5K4H",
        "outputId": "5be9bf1b-8a35-4507-e10e-135bb1a81dd3"
      },
      "source": [
        "data = pd.read_csv(\"/content/VAERS_processed.csv\")\n",
        "data.head()"
      ],
      "execution_count": null,
      "outputs": [
        {
          "output_type": "execute_result",
          "data": {
            "text/html": [
              "<div>\n",
              "<style scoped>\n",
              "    .dataframe tbody tr th:only-of-type {\n",
              "        vertical-align: middle;\n",
              "    }\n",
              "\n",
              "    .dataframe tbody tr th {\n",
              "        vertical-align: top;\n",
              "    }\n",
              "\n",
              "    .dataframe thead th {\n",
              "        text-align: right;\n",
              "    }\n",
              "</style>\n",
              "<table border=\"1\" class=\"dataframe\">\n",
              "  <thead>\n",
              "    <tr style=\"text-align: right;\">\n",
              "      <th></th>\n",
              "      <th>VAERS_ID</th>\n",
              "      <th>RECVDATE</th>\n",
              "      <th>STATE</th>\n",
              "      <th>AGE_YRS</th>\n",
              "      <th>CAGE_YR</th>\n",
              "      <th>CAGE_MO</th>\n",
              "      <th>SEX</th>\n",
              "      <th>RPT_DATE</th>\n",
              "      <th>SYMPTOM_TEXT</th>\n",
              "      <th>DIED</th>\n",
              "      <th>DATEDIED</th>\n",
              "      <th>L_THREAT</th>\n",
              "      <th>ER_VISIT</th>\n",
              "      <th>HOSPITAL</th>\n",
              "      <th>HOSPDAYS</th>\n",
              "      <th>X_STAY</th>\n",
              "      <th>DISABLE</th>\n",
              "      <th>RECOVD</th>\n",
              "      <th>VAX_DATE</th>\n",
              "      <th>ONSET_DATE</th>\n",
              "      <th>NUMDAYS</th>\n",
              "      <th>LAB_DATA</th>\n",
              "      <th>V_ADMINBY</th>\n",
              "      <th>V_FUNDBY</th>\n",
              "      <th>OTHER_MEDS</th>\n",
              "      <th>CUR_ILL</th>\n",
              "      <th>HISTORY</th>\n",
              "      <th>PRIOR_VAX</th>\n",
              "      <th>SPLTTYPE</th>\n",
              "      <th>FORM_VERS</th>\n",
              "      <th>TODAYS_DATE</th>\n",
              "      <th>BIRTH_DEFECT</th>\n",
              "      <th>OFC_VISIT</th>\n",
              "      <th>ER_ED_VISIT</th>\n",
              "      <th>ALLERGIES</th>\n",
              "      <th>symptom_list</th>\n",
              "      <th>VAX_TYPE</th>\n",
              "      <th>VAX_MANU</th>\n",
              "      <th>VAX_LOT</th>\n",
              "      <th>VAX_DOSE_SERIES</th>\n",
              "      <th>...</th>\n",
              "      <th>VAX_NAME</th>\n",
              "      <th>Abortion.spontaneous</th>\n",
              "      <th>Anaphylactic.reaction</th>\n",
              "      <th>Appendicitis</th>\n",
              "      <th>Arthralgia</th>\n",
              "      <th>Asthenia</th>\n",
              "      <th>Chest.pain</th>\n",
              "      <th>Chills</th>\n",
              "      <th>Cough</th>\n",
              "      <th>COVID.19</th>\n",
              "      <th>Death</th>\n",
              "      <th>Diarrhoea</th>\n",
              "      <th>Dizziness</th>\n",
              "      <th>Dyspnoea</th>\n",
              "      <th>Facial.paralysis</th>\n",
              "      <th>Fatigue</th>\n",
              "      <th>Feeling.abnormal</th>\n",
              "      <th>Flushing</th>\n",
              "      <th>Headache</th>\n",
              "      <th>Hyperhidrosis</th>\n",
              "      <th>Hypoaesthesia</th>\n",
              "      <th>Injection.site.erythema</th>\n",
              "      <th>Injection.site.pain</th>\n",
              "      <th>Injection.site.pruritus</th>\n",
              "      <th>Injection.site.swelling</th>\n",
              "      <th>Injection.site.warmth</th>\n",
              "      <th>Loss.of.consciousness</th>\n",
              "      <th>Lymphadenopathy</th>\n",
              "      <th>Malaise</th>\n",
              "      <th>Muscular.weakness</th>\n",
              "      <th>Nausea</th>\n",
              "      <th>Pain</th>\n",
              "      <th>Pyrexia</th>\n",
              "      <th>Rash</th>\n",
              "      <th>Throat.tightness</th>\n",
              "      <th>Thrombosis</th>\n",
              "      <th>Tinnitus</th>\n",
              "      <th>Tremor</th>\n",
              "      <th>Urticaria</th>\n",
              "      <th>Vomiting</th>\n",
              "    </tr>\n",
              "  </thead>\n",
              "  <tbody>\n",
              "    <tr>\n",
              "      <th>0</th>\n",
              "      <td>916710</td>\n",
              "      <td>01-01-2021</td>\n",
              "      <td>MO</td>\n",
              "      <td>23.0</td>\n",
              "      <td>23.0</td>\n",
              "      <td>NaN</td>\n",
              "      <td>F</td>\n",
              "      <td>NaN</td>\n",
              "      <td>Acute appendicitis, onset morning of 1/1/2021 ...</td>\n",
              "      <td>NaN</td>\n",
              "      <td>NaN</td>\n",
              "      <td>Y</td>\n",
              "      <td>NaN</td>\n",
              "      <td>Y</td>\n",
              "      <td>NaN</td>\n",
              "      <td>NaN</td>\n",
              "      <td>NaN</td>\n",
              "      <td>U</td>\n",
              "      <td>29-12-2020</td>\n",
              "      <td>01-01-2021</td>\n",
              "      <td>3.0</td>\n",
              "      <td>WBCs 13k, 4% Bands, CT with acute appendicitis...</td>\n",
              "      <td>PVT</td>\n",
              "      <td>NaN</td>\n",
              "      <td>Synthroid</td>\n",
              "      <td>NaN</td>\n",
              "      <td>Hypothyroidism</td>\n",
              "      <td>NaN</td>\n",
              "      <td>NaN</td>\n",
              "      <td>2</td>\n",
              "      <td>01-01-2021</td>\n",
              "      <td>NaN</td>\n",
              "      <td>NaN</td>\n",
              "      <td>Y</td>\n",
              "      <td>NKDA</td>\n",
              "      <td>'Appendicitis', 'Band neutrophil percentage in...</td>\n",
              "      <td>COVID19</td>\n",
              "      <td>MODERNA</td>\n",
              "      <td>NaN</td>\n",
              "      <td>1</td>\n",
              "      <td>...</td>\n",
              "      <td>COVID19 (COVID19 (MODERNA))</td>\n",
              "      <td>False</td>\n",
              "      <td>False</td>\n",
              "      <td>True</td>\n",
              "      <td>False</td>\n",
              "      <td>False</td>\n",
              "      <td>False</td>\n",
              "      <td>False</td>\n",
              "      <td>False</td>\n",
              "      <td>False</td>\n",
              "      <td>False</td>\n",
              "      <td>False</td>\n",
              "      <td>False</td>\n",
              "      <td>False</td>\n",
              "      <td>False</td>\n",
              "      <td>False</td>\n",
              "      <td>False</td>\n",
              "      <td>False</td>\n",
              "      <td>False</td>\n",
              "      <td>False</td>\n",
              "      <td>False</td>\n",
              "      <td>False</td>\n",
              "      <td>False</td>\n",
              "      <td>False</td>\n",
              "      <td>False</td>\n",
              "      <td>False</td>\n",
              "      <td>False</td>\n",
              "      <td>False</td>\n",
              "      <td>False</td>\n",
              "      <td>False</td>\n",
              "      <td>False</td>\n",
              "      <td>False</td>\n",
              "      <td>False</td>\n",
              "      <td>False</td>\n",
              "      <td>False</td>\n",
              "      <td>False</td>\n",
              "      <td>False</td>\n",
              "      <td>False</td>\n",
              "      <td>False</td>\n",
              "      <td>False</td>\n",
              "    </tr>\n",
              "    <tr>\n",
              "      <th>1</th>\n",
              "      <td>916720</td>\n",
              "      <td>01-01-2021</td>\n",
              "      <td>NY</td>\n",
              "      <td>23.0</td>\n",
              "      <td>23.0</td>\n",
              "      <td>NaN</td>\n",
              "      <td>M</td>\n",
              "      <td>NaN</td>\n",
              "      <td>Patient made statements that he was having a h...</td>\n",
              "      <td>NaN</td>\n",
              "      <td>NaN</td>\n",
              "      <td>NaN</td>\n",
              "      <td>NaN</td>\n",
              "      <td>NaN</td>\n",
              "      <td>NaN</td>\n",
              "      <td>NaN</td>\n",
              "      <td>NaN</td>\n",
              "      <td>Y</td>\n",
              "      <td>31-12-2020</td>\n",
              "      <td>31-12-2020</td>\n",
              "      <td>0.0</td>\n",
              "      <td>NaN</td>\n",
              "      <td>PVT</td>\n",
              "      <td>NaN</td>\n",
              "      <td>NaN</td>\n",
              "      <td>NaN</td>\n",
              "      <td>NaN</td>\n",
              "      <td>unknown</td>\n",
              "      <td>NaN</td>\n",
              "      <td>2</td>\n",
              "      <td>01-01-2021</td>\n",
              "      <td>NaN</td>\n",
              "      <td>NaN</td>\n",
              "      <td>Y</td>\n",
              "      <td>NaN</td>\n",
              "      <td>'Dysphagia', 'Dyspnoea'</td>\n",
              "      <td>COVID19</td>\n",
              "      <td>MODERNA</td>\n",
              "      <td>011L20A</td>\n",
              "      <td>1</td>\n",
              "      <td>...</td>\n",
              "      <td>COVID19 (COVID19 (MODERNA))</td>\n",
              "      <td>False</td>\n",
              "      <td>False</td>\n",
              "      <td>False</td>\n",
              "      <td>False</td>\n",
              "      <td>False</td>\n",
              "      <td>False</td>\n",
              "      <td>False</td>\n",
              "      <td>False</td>\n",
              "      <td>False</td>\n",
              "      <td>False</td>\n",
              "      <td>False</td>\n",
              "      <td>False</td>\n",
              "      <td>True</td>\n",
              "      <td>False</td>\n",
              "      <td>False</td>\n",
              "      <td>False</td>\n",
              "      <td>False</td>\n",
              "      <td>False</td>\n",
              "      <td>False</td>\n",
              "      <td>False</td>\n",
              "      <td>False</td>\n",
              "      <td>False</td>\n",
              "      <td>False</td>\n",
              "      <td>False</td>\n",
              "      <td>False</td>\n",
              "      <td>False</td>\n",
              "      <td>False</td>\n",
              "      <td>False</td>\n",
              "      <td>False</td>\n",
              "      <td>False</td>\n",
              "      <td>False</td>\n",
              "      <td>False</td>\n",
              "      <td>False</td>\n",
              "      <td>False</td>\n",
              "      <td>False</td>\n",
              "      <td>False</td>\n",
              "      <td>False</td>\n",
              "      <td>False</td>\n",
              "      <td>False</td>\n",
              "    </tr>\n",
              "    <tr>\n",
              "      <th>2</th>\n",
              "      <td>916741</td>\n",
              "      <td>01-01-2021</td>\n",
              "      <td>AR</td>\n",
              "      <td>68.0</td>\n",
              "      <td>68.0</td>\n",
              "      <td>NaN</td>\n",
              "      <td>F</td>\n",
              "      <td>NaN</td>\n",
              "      <td>on dec 22 I felt some myalgias, chills, fatigu...</td>\n",
              "      <td>NaN</td>\n",
              "      <td>NaN</td>\n",
              "      <td>NaN</td>\n",
              "      <td>NaN</td>\n",
              "      <td>NaN</td>\n",
              "      <td>NaN</td>\n",
              "      <td>NaN</td>\n",
              "      <td>Y</td>\n",
              "      <td>N</td>\n",
              "      <td>21-12-2020</td>\n",
              "      <td>22-12-2020</td>\n",
              "      <td>1.0</td>\n",
              "      <td>Dec 29th - saw surgeon.  had xray and exam --d...</td>\n",
              "      <td>PVT</td>\n",
              "      <td>NaN</td>\n",
              "      <td>phenobarbital 60mg HS hydroxychloroquin  400mg...</td>\n",
              "      <td>had surgery R hand for advanced arthritis 11/1...</td>\n",
              "      <td>Rheumatoid arthritis - mostly affecting R wris...</td>\n",
              "      <td>NaN</td>\n",
              "      <td>NaN</td>\n",
              "      <td>2</td>\n",
              "      <td>01-01-2021</td>\n",
              "      <td>NaN</td>\n",
              "      <td>NaN</td>\n",
              "      <td>NaN</td>\n",
              "      <td>bee stings</td>\n",
              "      <td>'Chills', 'Myalgia', 'Complex regional pain sy...</td>\n",
              "      <td>COVID19</td>\n",
              "      <td>PFIZER\\BIONTECH</td>\n",
              "      <td>EH9899</td>\n",
              "      <td>1</td>\n",
              "      <td>...</td>\n",
              "      <td>COVID19 (COVID19 (PFIZER-BIONTECH))</td>\n",
              "      <td>False</td>\n",
              "      <td>False</td>\n",
              "      <td>False</td>\n",
              "      <td>False</td>\n",
              "      <td>False</td>\n",
              "      <td>False</td>\n",
              "      <td>True</td>\n",
              "      <td>False</td>\n",
              "      <td>False</td>\n",
              "      <td>False</td>\n",
              "      <td>False</td>\n",
              "      <td>False</td>\n",
              "      <td>False</td>\n",
              "      <td>False</td>\n",
              "      <td>True</td>\n",
              "      <td>False</td>\n",
              "      <td>False</td>\n",
              "      <td>True</td>\n",
              "      <td>False</td>\n",
              "      <td>False</td>\n",
              "      <td>False</td>\n",
              "      <td>False</td>\n",
              "      <td>False</td>\n",
              "      <td>False</td>\n",
              "      <td>False</td>\n",
              "      <td>False</td>\n",
              "      <td>False</td>\n",
              "      <td>False</td>\n",
              "      <td>False</td>\n",
              "      <td>False</td>\n",
              "      <td>True</td>\n",
              "      <td>False</td>\n",
              "      <td>False</td>\n",
              "      <td>False</td>\n",
              "      <td>False</td>\n",
              "      <td>False</td>\n",
              "      <td>False</td>\n",
              "      <td>False</td>\n",
              "      <td>False</td>\n",
              "    </tr>\n",
              "    <tr>\n",
              "      <th>3</th>\n",
              "      <td>916772</td>\n",
              "      <td>01-01-2021</td>\n",
              "      <td>GA</td>\n",
              "      <td>55.0</td>\n",
              "      <td>55.0</td>\n",
              "      <td>NaN</td>\n",
              "      <td>M</td>\n",
              "      <td>NaN</td>\n",
              "      <td>Vaccine on 12/22/2020 and started feeling bad ...</td>\n",
              "      <td>NaN</td>\n",
              "      <td>NaN</td>\n",
              "      <td>NaN</td>\n",
              "      <td>NaN</td>\n",
              "      <td>NaN</td>\n",
              "      <td>NaN</td>\n",
              "      <td>NaN</td>\n",
              "      <td>NaN</td>\n",
              "      <td>U</td>\n",
              "      <td>22-12-2020</td>\n",
              "      <td>26-12-2020</td>\n",
              "      <td>4.0</td>\n",
              "      <td>Tested positive for COVID 19 on 12/30/2020</td>\n",
              "      <td>PUB</td>\n",
              "      <td>NaN</td>\n",
              "      <td>Propranolol,zoloft,asa,Lisinipril, Crestor, Pr...</td>\n",
              "      <td>NaN</td>\n",
              "      <td>HTN, Insomnia,High Cholesterol,</td>\n",
              "      <td>NaN</td>\n",
              "      <td>NaN</td>\n",
              "      <td>2</td>\n",
              "      <td>01-01-2021</td>\n",
              "      <td>NaN</td>\n",
              "      <td>Y</td>\n",
              "      <td>NaN</td>\n",
              "      <td>Codeine</td>\n",
              "      <td>'Feeling abnormal', 'SARS-CoV-2 test positive'</td>\n",
              "      <td>COVID19</td>\n",
              "      <td>PFIZER\\BIONTECH</td>\n",
              "      <td>EJ1685</td>\n",
              "      <td>UNK</td>\n",
              "      <td>...</td>\n",
              "      <td>COVID19 (COVID19 (PFIZER-BIONTECH))</td>\n",
              "      <td>False</td>\n",
              "      <td>False</td>\n",
              "      <td>False</td>\n",
              "      <td>False</td>\n",
              "      <td>False</td>\n",
              "      <td>False</td>\n",
              "      <td>False</td>\n",
              "      <td>False</td>\n",
              "      <td>False</td>\n",
              "      <td>False</td>\n",
              "      <td>False</td>\n",
              "      <td>False</td>\n",
              "      <td>False</td>\n",
              "      <td>False</td>\n",
              "      <td>False</td>\n",
              "      <td>True</td>\n",
              "      <td>False</td>\n",
              "      <td>False</td>\n",
              "      <td>False</td>\n",
              "      <td>False</td>\n",
              "      <td>False</td>\n",
              "      <td>False</td>\n",
              "      <td>False</td>\n",
              "      <td>False</td>\n",
              "      <td>False</td>\n",
              "      <td>False</td>\n",
              "      <td>False</td>\n",
              "      <td>False</td>\n",
              "      <td>False</td>\n",
              "      <td>False</td>\n",
              "      <td>False</td>\n",
              "      <td>False</td>\n",
              "      <td>False</td>\n",
              "      <td>False</td>\n",
              "      <td>False</td>\n",
              "      <td>False</td>\n",
              "      <td>False</td>\n",
              "      <td>False</td>\n",
              "      <td>False</td>\n",
              "    </tr>\n",
              "    <tr>\n",
              "      <th>4</th>\n",
              "      <td>916790</td>\n",
              "      <td>01-01-2021</td>\n",
              "      <td>TN</td>\n",
              "      <td>52.0</td>\n",
              "      <td>52.0</td>\n",
              "      <td>NaN</td>\n",
              "      <td>F</td>\n",
              "      <td>NaN</td>\n",
              "      <td>Flushing, sweating, increased heart rate proce...</td>\n",
              "      <td>NaN</td>\n",
              "      <td>NaN</td>\n",
              "      <td>Y</td>\n",
              "      <td>NaN</td>\n",
              "      <td>NaN</td>\n",
              "      <td>NaN</td>\n",
              "      <td>NaN</td>\n",
              "      <td>NaN</td>\n",
              "      <td>U</td>\n",
              "      <td>26-12-2020</td>\n",
              "      <td>26-12-2020</td>\n",
              "      <td>0.0</td>\n",
              "      <td>Solu-Medrol, Benadryl IV, Pepcid IV, and EKG m...</td>\n",
              "      <td>PVT</td>\n",
              "      <td>NaN</td>\n",
              "      <td>Estradiol, topiramate, Emgality, sumatriptan, ...</td>\n",
              "      <td>NaN</td>\n",
              "      <td>Asthma, migraines</td>\n",
              "      <td>NaN</td>\n",
              "      <td>NaN</td>\n",
              "      <td>2</td>\n",
              "      <td>01-01-2021</td>\n",
              "      <td>NaN</td>\n",
              "      <td>NaN</td>\n",
              "      <td>Y</td>\n",
              "      <td>Sulfa, shellfish</td>\n",
              "      <td>'Blood pressure diastolic increased', 'Electro...</td>\n",
              "      <td>COVID19</td>\n",
              "      <td>PFIZER\\BIONTECH</td>\n",
              "      <td>NaN</td>\n",
              "      <td>1</td>\n",
              "      <td>...</td>\n",
              "      <td>COVID19 (COVID19 (PFIZER-BIONTECH))</td>\n",
              "      <td>False</td>\n",
              "      <td>False</td>\n",
              "      <td>False</td>\n",
              "      <td>False</td>\n",
              "      <td>False</td>\n",
              "      <td>False</td>\n",
              "      <td>False</td>\n",
              "      <td>False</td>\n",
              "      <td>False</td>\n",
              "      <td>False</td>\n",
              "      <td>False</td>\n",
              "      <td>True</td>\n",
              "      <td>False</td>\n",
              "      <td>False</td>\n",
              "      <td>False</td>\n",
              "      <td>False</td>\n",
              "      <td>True</td>\n",
              "      <td>False</td>\n",
              "      <td>True</td>\n",
              "      <td>False</td>\n",
              "      <td>False</td>\n",
              "      <td>False</td>\n",
              "      <td>False</td>\n",
              "      <td>False</td>\n",
              "      <td>False</td>\n",
              "      <td>False</td>\n",
              "      <td>False</td>\n",
              "      <td>True</td>\n",
              "      <td>False</td>\n",
              "      <td>True</td>\n",
              "      <td>False</td>\n",
              "      <td>False</td>\n",
              "      <td>False</td>\n",
              "      <td>False</td>\n",
              "      <td>False</td>\n",
              "      <td>False</td>\n",
              "      <td>False</td>\n",
              "      <td>False</td>\n",
              "      <td>False</td>\n",
              "    </tr>\n",
              "  </tbody>\n",
              "</table>\n",
              "<p>5 rows × 82 columns</p>\n",
              "</div>"
            ],
            "text/plain": [
              "   VAERS_ID    RECVDATE STATE  AGE_YRS  ...  Tinnitus  Tremor Urticaria Vomiting\n",
              "0    916710  01-01-2021    MO     23.0  ...     False   False     False    False\n",
              "1    916720  01-01-2021    NY     23.0  ...     False   False     False    False\n",
              "2    916741  01-01-2021    AR     68.0  ...     False   False     False    False\n",
              "3    916772  01-01-2021    GA     55.0  ...     False   False     False    False\n",
              "4    916790  01-01-2021    TN     52.0  ...     False   False     False    False\n",
              "\n",
              "[5 rows x 82 columns]"
            ]
          },
          "metadata": {
            "tags": []
          },
          "execution_count": 4
        }
      ]
    },
    {
      "cell_type": "code",
      "metadata": {
        "id": "68dLAtQmiwIX"
      },
      "source": [
        "# required_cols = [3, 6, 24, 25, 26, 34, 42]\n",
        "data = data.fillna(0)\n",
        "data = data.replace(to_replace=\"Y\", value=1)\n",
        "data = data.replace(to_replace=False, value=0)\n",
        "data = data.replace(to_replace=True, value=1)"
      ],
      "execution_count": null,
      "outputs": []
    },
    {
      "cell_type": "code",
      "metadata": {
        "colab": {
          "base_uri": "https://localhost:8080/"
        },
        "id": "9K5kHN1b5RCU",
        "outputId": "aa9417fc-053b-45bb-b5f8-bb85c32e78f8"
      },
      "source": [
        "columns = data.columns\n",
        "col_indices = {}\n",
        "for i in range(len(columns)):\n",
        "  col_indices[i] = columns[i]\n",
        "col_indices"
      ],
      "execution_count": null,
      "outputs": [
        {
          "output_type": "execute_result",
          "data": {
            "text/plain": [
              "{0: 'VAERS_ID',\n",
              " 1: 'RECVDATE',\n",
              " 2: 'STATE',\n",
              " 3: 'AGE_YRS',\n",
              " 4: 'CAGE_YR',\n",
              " 5: 'CAGE_MO',\n",
              " 6: 'SEX',\n",
              " 7: 'RPT_DATE',\n",
              " 8: 'SYMPTOM_TEXT',\n",
              " 9: 'DIED',\n",
              " 10: 'DATEDIED',\n",
              " 11: 'L_THREAT',\n",
              " 12: 'ER_VISIT',\n",
              " 13: 'HOSPITAL',\n",
              " 14: 'HOSPDAYS',\n",
              " 15: 'X_STAY',\n",
              " 16: 'DISABLE',\n",
              " 17: 'RECOVD',\n",
              " 18: 'VAX_DATE',\n",
              " 19: 'ONSET_DATE',\n",
              " 20: 'NUMDAYS',\n",
              " 21: 'LAB_DATA',\n",
              " 22: 'V_ADMINBY',\n",
              " 23: 'V_FUNDBY',\n",
              " 24: 'OTHER_MEDS',\n",
              " 25: 'CUR_ILL',\n",
              " 26: 'HISTORY',\n",
              " 27: 'PRIOR_VAX',\n",
              " 28: 'SPLTTYPE',\n",
              " 29: 'FORM_VERS',\n",
              " 30: 'TODAYS_DATE',\n",
              " 31: 'BIRTH_DEFECT',\n",
              " 32: 'OFC_VISIT',\n",
              " 33: 'ER_ED_VISIT',\n",
              " 34: 'ALLERGIES',\n",
              " 35: 'symptom_list',\n",
              " 36: 'VAX_TYPE',\n",
              " 37: 'VAX_MANU',\n",
              " 38: 'VAX_LOT',\n",
              " 39: 'VAX_DOSE_SERIES',\n",
              " 40: 'VAX_ROUTE',\n",
              " 41: 'VAX_SITE',\n",
              " 42: 'VAX_NAME',\n",
              " 43: 'Abortion.spontaneous',\n",
              " 44: 'Anaphylactic.reaction',\n",
              " 45: 'Appendicitis',\n",
              " 46: 'Arthralgia',\n",
              " 47: 'Asthenia',\n",
              " 48: 'Chest.pain',\n",
              " 49: 'Chills',\n",
              " 50: 'Cough',\n",
              " 51: 'COVID.19',\n",
              " 52: 'Death',\n",
              " 53: 'Diarrhoea',\n",
              " 54: 'Dizziness',\n",
              " 55: 'Dyspnoea',\n",
              " 56: 'Facial.paralysis',\n",
              " 57: 'Fatigue',\n",
              " 58: 'Feeling.abnormal',\n",
              " 59: 'Flushing',\n",
              " 60: 'Headache',\n",
              " 61: 'Hyperhidrosis',\n",
              " 62: 'Hypoaesthesia',\n",
              " 63: 'Injection.site.erythema',\n",
              " 64: 'Injection.site.pain',\n",
              " 65: 'Injection.site.pruritus',\n",
              " 66: 'Injection.site.swelling',\n",
              " 67: 'Injection.site.warmth',\n",
              " 68: 'Loss.of.consciousness',\n",
              " 69: 'Lymphadenopathy',\n",
              " 70: 'Malaise',\n",
              " 71: 'Muscular.weakness',\n",
              " 72: 'Nausea',\n",
              " 73: 'Pain',\n",
              " 74: 'Pyrexia',\n",
              " 75: 'Rash',\n",
              " 76: 'Throat.tightness',\n",
              " 77: 'Thrombosis',\n",
              " 78: 'Tinnitus',\n",
              " 79: 'Tremor',\n",
              " 80: 'Urticaria',\n",
              " 81: 'Vomiting'}"
            ]
          },
          "metadata": {
            "tags": []
          },
          "execution_count": 6
        }
      ]
    },
    {
      "cell_type": "code",
      "metadata": {
        "id": "RNN_U7HU6jca"
      },
      "source": [
        "# history = data.iloc[:, 26:27].values.tolist()\n",
        "# new_history = []\n",
        "# for item in history:\n",
        "#   for hist in item:\n",
        "#     if type(hist) == str and not hist == \"None\":\n",
        "#       temp = hist.split(\",\")\n",
        "#       new_history.append(temp)\n",
        "# np.array(new_history).shape\n",
        "# history"
      ],
      "execution_count": null,
      "outputs": []
    },
    {
      "cell_type": "code",
      "metadata": {
        "colab": {
          "base_uri": "https://localhost:8080/"
        },
        "id": "djxG00PHvbI-",
        "outputId": "30cc39d6-f48b-4e28-d349-29d35d082954"
      },
      "source": [
        "one_hot_history = [[0 for _ in range(10)] for _ in range(len(data))]\n",
        "# len(data)\n",
        "classes = [['blood pressure', 'htn', 'hypertension'], ['asthma'], ['diabetes'],\n",
        "           ['covid-19', 'covid 19', 'covid', 'corona', 'sars'], ['hypothyroidism'],\n",
        "           ['hyperlipidemia'], ['cholesterol'], ['depression'], ['obesity', 'obese', 'overweight', 'fat'],\n",
        "           ['kidney']]\n",
        "columns = ['Hypertension', 'Asthma', 'Diabetes', 'Corona', 'Hypothyroidism', \n",
        "           'Hyperlipidemia', 'Chelestrol', 'Depression', 'Obesity', 'Kidney']\n",
        "history = data.iloc[:, 26:27].values.tolist()\n",
        "for i in range(len(history)):\n",
        "  if type(history[i][0]) == int:\n",
        "    continue\n",
        "  str_hist = history[i][0].lower()\n",
        "  for j in range(len(classes)):\n",
        "    for k in classes[j]:\n",
        "      if k in str_hist:\n",
        "        one_hot_history[i][j] = 1\n",
        "        break\n",
        "histroy_dataframe = pd.DataFrame(one_hot_history, columns=columns)\n",
        "print(histroy_dataframe)\n",
        "print(len(histroy_dataframe))"
      ],
      "execution_count": null,
      "outputs": [
        {
          "output_type": "stream",
          "text": [
            "      Hypertension  Asthma  Diabetes  ...  Depression  Obesity  Kidney\n",
            "0                0       0         0  ...           0        0       0\n",
            "1                0       0         0  ...           0        0       0\n",
            "2                0       0         0  ...           0        0       0\n",
            "3                1       0         0  ...           0        0       0\n",
            "4                0       1         0  ...           0        0       0\n",
            "...            ...     ...       ...  ...         ...      ...     ...\n",
            "5274             0       0         0  ...           0        0       0\n",
            "5275             0       0         0  ...           0        0       0\n",
            "5276             0       0         0  ...           0        0       0\n",
            "5277             0       0         0  ...           0        0       0\n",
            "5278             0       0         0  ...           0        0       0\n",
            "\n",
            "[5279 rows x 10 columns]\n",
            "5279\n"
          ],
          "name": "stdout"
        }
      ]
    },
    {
      "cell_type": "code",
      "metadata": {
        "colab": {
          "base_uri": "https://localhost:8080/"
        },
        "id": "_yWhkoM-vvxl",
        "outputId": "116bd738-4854-4f87-c052-0ecc4665d48b"
      },
      "source": [
        "required_cols = [3, 6 , 42] + [i for i in range(82, 92)]\n",
        "additional_labels = [\"Pain\", 'Pyrexia', 'Headache', 'Dyspnoea', 'Fatigue', 'Chills', 'Dizziness', 'Nausea', 'Asthenia', 'Cough']\n",
        "# additional_labels = [43]\n",
        "data = pd.concat([data, histroy_dataframe], axis=1)\n",
        "columns = data.columns.values\n",
        "required_cols = columns[required_cols]\n",
        "X = data[required_cols].iloc[:, :]\n",
        "y = data[additional_labels].iloc[:, :]\n",
        "oe = OrdinalEncoder()\n",
        "oe.fit(X[[\"VAX_NAME\"]])\n",
        "X[\"VAX_NAME\"] = oe.transform(X[[\"VAX_NAME\"]])\n",
        "oe_sex = OrdinalEncoder()\n",
        "oe_sex.fit(X[[\"SEX\"]])\n",
        "X[\"SEX\"] = oe_sex.transform(X[[\"SEX\"]])\n",
        "# print(X.shape)\n",
        "# print(y.shape)\n",
        "# print(X)\n",
        "# print(y)\n",
        "# print(X.columns)\n",
        "# data.head()"
      ],
      "execution_count": null,
      "outputs": [
        {
          "output_type": "stream",
          "text": [
            "/usr/local/lib/python3.7/dist-packages/ipykernel_launcher.py:11: SettingWithCopyWarning: \n",
            "A value is trying to be set on a copy of a slice from a DataFrame.\n",
            "Try using .loc[row_indexer,col_indexer] = value instead\n",
            "\n",
            "See the caveats in the documentation: https://pandas.pydata.org/pandas-docs/stable/user_guide/indexing.html#returning-a-view-versus-a-copy\n",
            "  # This is added back by InteractiveShellApp.init_path()\n",
            "/usr/local/lib/python3.7/dist-packages/ipykernel_launcher.py:14: SettingWithCopyWarning: \n",
            "A value is trying to be set on a copy of a slice from a DataFrame.\n",
            "Try using .loc[row_indexer,col_indexer] = value instead\n",
            "\n",
            "See the caveats in the documentation: https://pandas.pydata.org/pandas-docs/stable/user_guide/indexing.html#returning-a-view-versus-a-copy\n",
            "  \n"
          ],
          "name": "stderr"
        }
      ]
    },
    {
      "cell_type": "code",
      "metadata": {
        "id": "QlNTj_tY2lP8"
      },
      "source": [
        "X_train, X_test, y_train, y_test = train_test_split(X, y, test_size=0.1, random_state=42)"
      ],
      "execution_count": null,
      "outputs": []
    },
    {
      "cell_type": "code",
      "metadata": {
        "colab": {
          "base_uri": "https://localhost:8080/"
        },
        "id": "gH3-2pHx4h6U",
        "outputId": "baea61f4-ddfc-45f4-9b4e-2f23cb4a4f67"
      },
      "source": [
        "print(X_train)\n",
        "print(y_train)"
      ],
      "execution_count": null,
      "outputs": [
        {
          "output_type": "stream",
          "text": [
            "      AGE_YRS  SEX  VAX_NAME  ...  Depression  Obesity  Kidney\n",
            "4944     39.0  0.0       0.0  ...           0        0       0\n",
            "2835     26.0  0.0       1.0  ...           0        0       0\n",
            "2117      0.0  2.0       1.0  ...           0        0       0\n",
            "1650     57.0  1.0       1.0  ...           0        0       0\n",
            "893      36.0  0.0       1.0  ...           0        0       0\n",
            "...       ...  ...       ...  ...         ...      ...     ...\n",
            "3092     92.0  1.0       1.0  ...           0        0       0\n",
            "3772      0.0  2.0       1.0  ...           0        0       0\n",
            "5191     92.0  1.0       1.0  ...           0        0       0\n",
            "5226     45.0  0.0       0.0  ...           0        0       0\n",
            "860      83.0  0.0       1.0  ...           0        0       0\n",
            "\n",
            "[4751 rows x 13 columns]\n",
            "      Pain  Pyrexia  Headache  Dyspnoea  ...  Dizziness  Nausea  Asthenia  Cough\n",
            "4944   1.0      1.0       0.0       0.0  ...        0.0     0.0       0.0    0.0\n",
            "2835   0.0      1.0       0.0       0.0  ...        1.0     0.0       1.0    0.0\n",
            "2117   0.0      0.0       0.0       0.0  ...        0.0     0.0       0.0    0.0\n",
            "1650   0.0      0.0       0.0       0.0  ...        0.0     0.0       0.0    0.0\n",
            "893    0.0      0.0       0.0       0.0  ...        0.0     0.0       0.0    0.0\n",
            "...    ...      ...       ...       ...  ...        ...     ...       ...    ...\n",
            "3092   0.0      0.0       0.0       0.0  ...        0.0     0.0       0.0    1.0\n",
            "3772   0.0      0.0       0.0       0.0  ...        0.0     0.0       0.0    0.0\n",
            "5191   0.0      1.0       0.0       0.0  ...        0.0     0.0       1.0    0.0\n",
            "5226   0.0      0.0       0.0       0.0  ...        0.0     0.0       0.0    0.0\n",
            "860    0.0      0.0       0.0       1.0  ...        0.0     0.0       0.0    0.0\n",
            "\n",
            "[4751 rows x 10 columns]\n"
          ],
          "name": "stdout"
        }
      ]
    },
    {
      "cell_type": "code",
      "metadata": {
        "id": "P9fJQ0mmDYZG"
      },
      "source": [
        "from keras.callbacks import ModelCheckpoint\n",
        "model_checkpoint = ModelCheckpoint('final2.h5', monitor=\"val_accuracy\", save_best_only=True)"
      ],
      "execution_count": null,
      "outputs": []
    },
    {
      "cell_type": "code",
      "metadata": {
        "id": "g9ks-4Rz4tBZ"
      },
      "source": [
        "model = Sequential()\n",
        "model.add(Dense(64, input_shape=X_train.shape[1:], activation=\"relu\"))\n",
        "model.add(Dropout(0.1))\n",
        "model.add(Dense(128, activation=\"relu\"))\n",
        "model.add(Dropout(0.1))\n",
        "model.add(Dense(256, activation=\"relu\"))\n",
        "model.add(Dropout(0.1))\n",
        "model.add(Dense(128, activation=\"relu\"))\n",
        "model.add(Dropout(0.1))\n",
        "model.add(Dense(64, activation=\"relu\"))\n",
        "model.add(Dropout(0.1))\n",
        "model.add(Dense(10, activation=\"sigmoid\"))\n",
        "model.compile(loss=\"binary_crossentropy\", metrics=[\"accuracy\"], optimizer=\"adam\")"
      ],
      "execution_count": null,
      "outputs": []
    },
    {
      "cell_type": "code",
      "metadata": {
        "colab": {
          "base_uri": "https://localhost:8080/"
        },
        "id": "eRtfUvao530_",
        "outputId": "27bb1b40-1702-429b-d453-91486fef64c2"
      },
      "source": [
        "model.summary()"
      ],
      "execution_count": null,
      "outputs": [
        {
          "output_type": "stream",
          "text": [
            "Model: \"sequential\"\n",
            "_________________________________________________________________\n",
            "Layer (type)                 Output Shape              Param #   \n",
            "=================================================================\n",
            "dense (Dense)                (None, 64)                896       \n",
            "_________________________________________________________________\n",
            "dropout (Dropout)            (None, 64)                0         \n",
            "_________________________________________________________________\n",
            "dense_1 (Dense)              (None, 128)               8320      \n",
            "_________________________________________________________________\n",
            "dropout_1 (Dropout)          (None, 128)               0         \n",
            "_________________________________________________________________\n",
            "dense_2 (Dense)              (None, 256)               33024     \n",
            "_________________________________________________________________\n",
            "dropout_2 (Dropout)          (None, 256)               0         \n",
            "_________________________________________________________________\n",
            "dense_3 (Dense)              (None, 128)               32896     \n",
            "_________________________________________________________________\n",
            "dropout_3 (Dropout)          (None, 128)               0         \n",
            "_________________________________________________________________\n",
            "dense_4 (Dense)              (None, 64)                8256      \n",
            "_________________________________________________________________\n",
            "dropout_4 (Dropout)          (None, 64)                0         \n",
            "_________________________________________________________________\n",
            "dense_5 (Dense)              (None, 10)                650       \n",
            "=================================================================\n",
            "Total params: 84,042\n",
            "Trainable params: 84,042\n",
            "Non-trainable params: 0\n",
            "_________________________________________________________________\n"
          ],
          "name": "stdout"
        }
      ]
    },
    {
      "cell_type": "code",
      "metadata": {
        "colab": {
          "base_uri": "https://localhost:8080/"
        },
        "id": "SKEOIDU46JoL",
        "outputId": "f04c93ba-358a-452b-f3b8-a2a42189bade"
      },
      "source": [
        "model.fit(X_train, y_train, epochs=100, validation_data=(X_test, y_test), callbacks=[model_checkpoint])"
      ],
      "execution_count": null,
      "outputs": [
        {
          "output_type": "stream",
          "text": [
            "Epoch 1/100\n",
            "149/149 [==============================] - 2s 8ms/step - loss: 0.4777 - accuracy: 0.3056 - val_loss: 0.3487 - val_accuracy: 0.7519\n",
            "Epoch 2/100\n",
            "149/149 [==============================] - 1s 4ms/step - loss: 0.3499 - accuracy: 0.5639 - val_loss: 0.3324 - val_accuracy: 0.7519\n",
            "Epoch 3/100\n",
            "149/149 [==============================] - 1s 4ms/step - loss: 0.3381 - accuracy: 0.6300 - val_loss: 0.3354 - val_accuracy: 0.7519\n",
            "Epoch 4/100\n",
            "149/149 [==============================] - 1s 4ms/step - loss: 0.3324 - accuracy: 0.6893 - val_loss: 0.3309 - val_accuracy: 0.7519\n",
            "Epoch 5/100\n",
            "149/149 [==============================] - 1s 4ms/step - loss: 0.3366 - accuracy: 0.7017 - val_loss: 0.3287 - val_accuracy: 0.7519\n",
            "Epoch 6/100\n",
            "149/149 [==============================] - 1s 4ms/step - loss: 0.3309 - accuracy: 0.6894 - val_loss: 0.3302 - val_accuracy: 0.7519\n",
            "Epoch 7/100\n",
            "149/149 [==============================] - 1s 4ms/step - loss: 0.3287 - accuracy: 0.7048 - val_loss: 0.3301 - val_accuracy: 0.7519\n",
            "Epoch 8/100\n",
            "149/149 [==============================] - 1s 3ms/step - loss: 0.3274 - accuracy: 0.7026 - val_loss: 0.3298 - val_accuracy: 0.7519\n",
            "Epoch 9/100\n",
            "149/149 [==============================] - 1s 4ms/step - loss: 0.3258 - accuracy: 0.7222 - val_loss: 0.3297 - val_accuracy: 0.7519\n",
            "Epoch 10/100\n",
            "149/149 [==============================] - 1s 4ms/step - loss: 0.3329 - accuracy: 0.7239 - val_loss: 0.3287 - val_accuracy: 0.7519\n",
            "Epoch 11/100\n",
            "149/149 [==============================] - 1s 4ms/step - loss: 0.3244 - accuracy: 0.7178 - val_loss: 0.3290 - val_accuracy: 0.7519\n",
            "Epoch 12/100\n",
            "149/149 [==============================] - 1s 4ms/step - loss: 0.3205 - accuracy: 0.7129 - val_loss: 0.3295 - val_accuracy: 0.7519\n",
            "Epoch 13/100\n",
            "149/149 [==============================] - 1s 3ms/step - loss: 0.3259 - accuracy: 0.7120 - val_loss: 0.3305 - val_accuracy: 0.7519\n",
            "Epoch 14/100\n",
            "149/149 [==============================] - 1s 4ms/step - loss: 0.3199 - accuracy: 0.7305 - val_loss: 0.3293 - val_accuracy: 0.7519\n",
            "Epoch 15/100\n",
            "149/149 [==============================] - 1s 4ms/step - loss: 0.3237 - accuracy: 0.6941 - val_loss: 0.3282 - val_accuracy: 0.7519\n",
            "Epoch 16/100\n",
            "149/149 [==============================] - 1s 4ms/step - loss: 0.3210 - accuracy: 0.7190 - val_loss: 0.3280 - val_accuracy: 0.7519\n",
            "Epoch 17/100\n",
            "149/149 [==============================] - 1s 4ms/step - loss: 0.3238 - accuracy: 0.6963 - val_loss: 0.3290 - val_accuracy: 0.7519\n",
            "Epoch 18/100\n",
            "149/149 [==============================] - 1s 4ms/step - loss: 0.3233 - accuracy: 0.7220 - val_loss: 0.3266 - val_accuracy: 0.7519\n",
            "Epoch 19/100\n",
            "149/149 [==============================] - 1s 4ms/step - loss: 0.3250 - accuracy: 0.7267 - val_loss: 0.3274 - val_accuracy: 0.7519\n",
            "Epoch 20/100\n",
            "149/149 [==============================] - 1s 4ms/step - loss: 0.3175 - accuracy: 0.7103 - val_loss: 0.3280 - val_accuracy: 0.7500\n",
            "Epoch 21/100\n",
            "149/149 [==============================] - 1s 4ms/step - loss: 0.3297 - accuracy: 0.7201 - val_loss: 0.3282 - val_accuracy: 0.7519\n",
            "Epoch 22/100\n",
            "149/149 [==============================] - 1s 3ms/step - loss: 0.3228 - accuracy: 0.7080 - val_loss: 0.3263 - val_accuracy: 0.7519\n",
            "Epoch 23/100\n",
            "149/149 [==============================] - 1s 4ms/step - loss: 0.3248 - accuracy: 0.6936 - val_loss: 0.3276 - val_accuracy: 0.7519\n",
            "Epoch 24/100\n",
            "149/149 [==============================] - 1s 3ms/step - loss: 0.3241 - accuracy: 0.7107 - val_loss: 0.3264 - val_accuracy: 0.7519\n",
            "Epoch 25/100\n",
            "149/149 [==============================] - 1s 4ms/step - loss: 0.3164 - accuracy: 0.7102 - val_loss: 0.3267 - val_accuracy: 0.7405\n",
            "Epoch 26/100\n",
            "149/149 [==============================] - 1s 4ms/step - loss: 0.3159 - accuracy: 0.6790 - val_loss: 0.3281 - val_accuracy: 0.7311\n",
            "Epoch 27/100\n",
            "149/149 [==============================] - 1s 3ms/step - loss: 0.3195 - accuracy: 0.7090 - val_loss: 0.3275 - val_accuracy: 0.7462\n",
            "Epoch 28/100\n",
            "149/149 [==============================] - 1s 3ms/step - loss: 0.3225 - accuracy: 0.7164 - val_loss: 0.3277 - val_accuracy: 0.7519\n",
            "Epoch 29/100\n",
            "149/149 [==============================] - 1s 4ms/step - loss: 0.3221 - accuracy: 0.7112 - val_loss: 0.3259 - val_accuracy: 0.7519\n",
            "Epoch 30/100\n",
            "149/149 [==============================] - 1s 3ms/step - loss: 0.3212 - accuracy: 0.7166 - val_loss: 0.3265 - val_accuracy: 0.7519\n",
            "Epoch 31/100\n",
            "149/149 [==============================] - 1s 4ms/step - loss: 0.3249 - accuracy: 0.7039 - val_loss: 0.3261 - val_accuracy: 0.7519\n",
            "Epoch 32/100\n",
            "149/149 [==============================] - 1s 4ms/step - loss: 0.3259 - accuracy: 0.7014 - val_loss: 0.3262 - val_accuracy: 0.7519\n",
            "Epoch 33/100\n",
            "149/149 [==============================] - 1s 4ms/step - loss: 0.3203 - accuracy: 0.6950 - val_loss: 0.3264 - val_accuracy: 0.7330\n",
            "Epoch 34/100\n",
            "149/149 [==============================] - 1s 4ms/step - loss: 0.3157 - accuracy: 0.7032 - val_loss: 0.3258 - val_accuracy: 0.7443\n",
            "Epoch 35/100\n",
            "149/149 [==============================] - 1s 4ms/step - loss: 0.3192 - accuracy: 0.7137 - val_loss: 0.3267 - val_accuracy: 0.7330\n",
            "Epoch 36/100\n",
            "149/149 [==============================] - 1s 4ms/step - loss: 0.3169 - accuracy: 0.6782 - val_loss: 0.3270 - val_accuracy: 0.7405\n",
            "Epoch 37/100\n",
            "149/149 [==============================] - 1s 4ms/step - loss: 0.3198 - accuracy: 0.6758 - val_loss: 0.3255 - val_accuracy: 0.7330\n",
            "Epoch 38/100\n",
            "149/149 [==============================] - 1s 4ms/step - loss: 0.3238 - accuracy: 0.6723 - val_loss: 0.3279 - val_accuracy: 0.7519\n",
            "Epoch 39/100\n",
            "149/149 [==============================] - 1s 4ms/step - loss: 0.3250 - accuracy: 0.6959 - val_loss: 0.3264 - val_accuracy: 0.7519\n",
            "Epoch 40/100\n",
            "149/149 [==============================] - 1s 4ms/step - loss: 0.3231 - accuracy: 0.7082 - val_loss: 0.3258 - val_accuracy: 0.7008\n",
            "Epoch 41/100\n",
            "149/149 [==============================] - 1s 4ms/step - loss: 0.3124 - accuracy: 0.6592 - val_loss: 0.3267 - val_accuracy: 0.7519\n",
            "Epoch 42/100\n",
            "149/149 [==============================] - 1s 4ms/step - loss: 0.3234 - accuracy: 0.6973 - val_loss: 0.3279 - val_accuracy: 0.7519\n",
            "Epoch 43/100\n",
            "149/149 [==============================] - 0s 3ms/step - loss: 0.3164 - accuracy: 0.6623 - val_loss: 0.3255 - val_accuracy: 0.7481\n",
            "Epoch 44/100\n",
            "149/149 [==============================] - 0s 3ms/step - loss: 0.3254 - accuracy: 0.7057 - val_loss: 0.3255 - val_accuracy: 0.7424\n",
            "Epoch 45/100\n",
            "149/149 [==============================] - 1s 3ms/step - loss: 0.3167 - accuracy: 0.6729 - val_loss: 0.3261 - val_accuracy: 0.7367\n",
            "Epoch 46/100\n",
            "149/149 [==============================] - 1s 4ms/step - loss: 0.3171 - accuracy: 0.7172 - val_loss: 0.3270 - val_accuracy: 0.6989\n",
            "Epoch 47/100\n",
            "149/149 [==============================] - 1s 4ms/step - loss: 0.3192 - accuracy: 0.6674 - val_loss: 0.3254 - val_accuracy: 0.7500\n",
            "Epoch 48/100\n",
            "149/149 [==============================] - 1s 4ms/step - loss: 0.3185 - accuracy: 0.7043 - val_loss: 0.3257 - val_accuracy: 0.6856\n",
            "Epoch 49/100\n",
            "149/149 [==============================] - 1s 4ms/step - loss: 0.3192 - accuracy: 0.6868 - val_loss: 0.3264 - val_accuracy: 0.7462\n",
            "Epoch 50/100\n",
            "149/149 [==============================] - 1s 4ms/step - loss: 0.3148 - accuracy: 0.6759 - val_loss: 0.3268 - val_accuracy: 0.7027\n",
            "Epoch 51/100\n",
            "149/149 [==============================] - 1s 3ms/step - loss: 0.3192 - accuracy: 0.6825 - val_loss: 0.3262 - val_accuracy: 0.7216\n",
            "Epoch 52/100\n",
            "149/149 [==============================] - 1s 4ms/step - loss: 0.3093 - accuracy: 0.6774 - val_loss: 0.3261 - val_accuracy: 0.7462\n",
            "Epoch 53/100\n",
            "149/149 [==============================] - 1s 4ms/step - loss: 0.3222 - accuracy: 0.7203 - val_loss: 0.3260 - val_accuracy: 0.7254\n",
            "Epoch 54/100\n",
            "149/149 [==============================] - 1s 4ms/step - loss: 0.3285 - accuracy: 0.6745 - val_loss: 0.3270 - val_accuracy: 0.7462\n",
            "Epoch 55/100\n",
            "149/149 [==============================] - 1s 4ms/step - loss: 0.3191 - accuracy: 0.7102 - val_loss: 0.3264 - val_accuracy: 0.7235\n",
            "Epoch 56/100\n",
            "149/149 [==============================] - 1s 4ms/step - loss: 0.3179 - accuracy: 0.6897 - val_loss: 0.3257 - val_accuracy: 0.7462\n",
            "Epoch 57/100\n",
            "149/149 [==============================] - 1s 4ms/step - loss: 0.3146 - accuracy: 0.6984 - val_loss: 0.3264 - val_accuracy: 0.7348\n",
            "Epoch 58/100\n",
            "149/149 [==============================] - 1s 4ms/step - loss: 0.3218 - accuracy: 0.6898 - val_loss: 0.3269 - val_accuracy: 0.6875\n",
            "Epoch 59/100\n",
            "149/149 [==============================] - 1s 4ms/step - loss: 0.3148 - accuracy: 0.6649 - val_loss: 0.3272 - val_accuracy: 0.6667\n",
            "Epoch 60/100\n",
            "149/149 [==============================] - 1s 4ms/step - loss: 0.3114 - accuracy: 0.6784 - val_loss: 0.3281 - val_accuracy: 0.7367\n",
            "Epoch 61/100\n",
            "149/149 [==============================] - 1s 4ms/step - loss: 0.3272 - accuracy: 0.6834 - val_loss: 0.3262 - val_accuracy: 0.7443\n",
            "Epoch 62/100\n",
            "149/149 [==============================] - 1s 4ms/step - loss: 0.3139 - accuracy: 0.6909 - val_loss: 0.3254 - val_accuracy: 0.7405\n",
            "Epoch 63/100\n",
            "149/149 [==============================] - 1s 4ms/step - loss: 0.3242 - accuracy: 0.6801 - val_loss: 0.3258 - val_accuracy: 0.7348\n",
            "Epoch 64/100\n",
            "149/149 [==============================] - 1s 4ms/step - loss: 0.3172 - accuracy: 0.7031 - val_loss: 0.3269 - val_accuracy: 0.6970\n",
            "Epoch 65/100\n",
            "149/149 [==============================] - 1s 4ms/step - loss: 0.3212 - accuracy: 0.6713 - val_loss: 0.3280 - val_accuracy: 0.6951\n",
            "Epoch 66/100\n",
            "149/149 [==============================] - 1s 4ms/step - loss: 0.3152 - accuracy: 0.6798 - val_loss: 0.3307 - val_accuracy: 0.6951\n",
            "Epoch 67/100\n",
            "149/149 [==============================] - 1s 4ms/step - loss: 0.3208 - accuracy: 0.6726 - val_loss: 0.3267 - val_accuracy: 0.7292\n",
            "Epoch 68/100\n",
            "149/149 [==============================] - 1s 4ms/step - loss: 0.3179 - accuracy: 0.6628 - val_loss: 0.3287 - val_accuracy: 0.7045\n",
            "Epoch 69/100\n",
            "149/149 [==============================] - 1s 4ms/step - loss: 0.3179 - accuracy: 0.6852 - val_loss: 0.3288 - val_accuracy: 0.6534\n",
            "Epoch 70/100\n",
            "149/149 [==============================] - 1s 4ms/step - loss: 0.3147 - accuracy: 0.6328 - val_loss: 0.3294 - val_accuracy: 0.7159\n",
            "Epoch 71/100\n",
            "149/149 [==============================] - 1s 4ms/step - loss: 0.3181 - accuracy: 0.6884 - val_loss: 0.3285 - val_accuracy: 0.7254\n",
            "Epoch 72/100\n",
            "149/149 [==============================] - 1s 4ms/step - loss: 0.3185 - accuracy: 0.6838 - val_loss: 0.3278 - val_accuracy: 0.7159\n",
            "Epoch 73/100\n",
            "149/149 [==============================] - 1s 4ms/step - loss: 0.3168 - accuracy: 0.6887 - val_loss: 0.3272 - val_accuracy: 0.7367\n",
            "Epoch 74/100\n",
            "149/149 [==============================] - 1s 4ms/step - loss: 0.3161 - accuracy: 0.6855 - val_loss: 0.3285 - val_accuracy: 0.7178\n",
            "Epoch 75/100\n",
            "149/149 [==============================] - 1s 4ms/step - loss: 0.3137 - accuracy: 0.6675 - val_loss: 0.3290 - val_accuracy: 0.7330\n",
            "Epoch 76/100\n",
            "149/149 [==============================] - 1s 4ms/step - loss: 0.3173 - accuracy: 0.6729 - val_loss: 0.3289 - val_accuracy: 0.6629\n",
            "Epoch 77/100\n",
            "149/149 [==============================] - 1s 4ms/step - loss: 0.3247 - accuracy: 0.6690 - val_loss: 0.3310 - val_accuracy: 0.7140\n",
            "Epoch 78/100\n",
            "149/149 [==============================] - 1s 4ms/step - loss: 0.3202 - accuracy: 0.6685 - val_loss: 0.3280 - val_accuracy: 0.6780\n",
            "Epoch 79/100\n",
            "149/149 [==============================] - 1s 4ms/step - loss: 0.3235 - accuracy: 0.6679 - val_loss: 0.3306 - val_accuracy: 0.6837\n",
            "Epoch 80/100\n",
            "149/149 [==============================] - 1s 4ms/step - loss: 0.3178 - accuracy: 0.6818 - val_loss: 0.3317 - val_accuracy: 0.6932\n",
            "Epoch 81/100\n",
            "149/149 [==============================] - 1s 3ms/step - loss: 0.3126 - accuracy: 0.6848 - val_loss: 0.3271 - val_accuracy: 0.6856\n",
            "Epoch 82/100\n",
            "149/149 [==============================] - 1s 4ms/step - loss: 0.3212 - accuracy: 0.6674 - val_loss: 0.3283 - val_accuracy: 0.7292\n",
            "Epoch 83/100\n",
            "149/149 [==============================] - 1s 4ms/step - loss: 0.3194 - accuracy: 0.6570 - val_loss: 0.3312 - val_accuracy: 0.6818\n",
            "Epoch 84/100\n",
            "149/149 [==============================] - 1s 4ms/step - loss: 0.3057 - accuracy: 0.6880 - val_loss: 0.3314 - val_accuracy: 0.6686\n",
            "Epoch 85/100\n",
            "149/149 [==============================] - 1s 4ms/step - loss: 0.3168 - accuracy: 0.6369 - val_loss: 0.3302 - val_accuracy: 0.6742\n",
            "Epoch 86/100\n",
            "149/149 [==============================] - 1s 4ms/step - loss: 0.3084 - accuracy: 0.6572 - val_loss: 0.3308 - val_accuracy: 0.7140\n",
            "Epoch 87/100\n",
            "149/149 [==============================] - 1s 4ms/step - loss: 0.3191 - accuracy: 0.6338 - val_loss: 0.3301 - val_accuracy: 0.7216\n",
            "Epoch 88/100\n",
            "149/149 [==============================] - 1s 4ms/step - loss: 0.3134 - accuracy: 0.6496 - val_loss: 0.3300 - val_accuracy: 0.6705\n",
            "Epoch 89/100\n",
            "149/149 [==============================] - 1s 4ms/step - loss: 0.3116 - accuracy: 0.6460 - val_loss: 0.3321 - val_accuracy: 0.7386\n",
            "Epoch 90/100\n",
            "149/149 [==============================] - 1s 4ms/step - loss: 0.3206 - accuracy: 0.6963 - val_loss: 0.3296 - val_accuracy: 0.7102\n",
            "Epoch 91/100\n",
            "149/149 [==============================] - 1s 4ms/step - loss: 0.3181 - accuracy: 0.6969 - val_loss: 0.3289 - val_accuracy: 0.6705\n",
            "Epoch 92/100\n",
            "149/149 [==============================] - 1s 3ms/step - loss: 0.3144 - accuracy: 0.6554 - val_loss: 0.3309 - val_accuracy: 0.7254\n",
            "Epoch 93/100\n",
            "149/149 [==============================] - 1s 4ms/step - loss: 0.3219 - accuracy: 0.6689 - val_loss: 0.3332 - val_accuracy: 0.6667\n",
            "Epoch 94/100\n",
            "149/149 [==============================] - 1s 4ms/step - loss: 0.3185 - accuracy: 0.6411 - val_loss: 0.3310 - val_accuracy: 0.6591\n",
            "Epoch 95/100\n",
            "149/149 [==============================] - 1s 4ms/step - loss: 0.3124 - accuracy: 0.6630 - val_loss: 0.3309 - val_accuracy: 0.6818\n",
            "Epoch 96/100\n",
            "149/149 [==============================] - 1s 4ms/step - loss: 0.3140 - accuracy: 0.6505 - val_loss: 0.3334 - val_accuracy: 0.7197\n",
            "Epoch 97/100\n",
            "149/149 [==============================] - 1s 4ms/step - loss: 0.3175 - accuracy: 0.6628 - val_loss: 0.3332 - val_accuracy: 0.6250\n",
            "Epoch 98/100\n",
            "149/149 [==============================] - 1s 4ms/step - loss: 0.3137 - accuracy: 0.6592 - val_loss: 0.3339 - val_accuracy: 0.6686\n",
            "Epoch 99/100\n",
            "149/149 [==============================] - 1s 3ms/step - loss: 0.3183 - accuracy: 0.6755 - val_loss: 0.3320 - val_accuracy: 0.6553\n",
            "Epoch 100/100\n",
            "149/149 [==============================] - 1s 4ms/step - loss: 0.3183 - accuracy: 0.6688 - val_loss: 0.3339 - val_accuracy: 0.6780\n"
          ],
          "name": "stdout"
        },
        {
          "output_type": "execute_result",
          "data": {
            "text/plain": [
              "<tensorflow.python.keras.callbacks.History at 0x7f830b8b8a10>"
            ]
          },
          "metadata": {
            "tags": []
          },
          "execution_count": 15
        }
      ]
    },
    {
      "cell_type": "code",
      "metadata": {
        "id": "B5RVyrCe6VqZ"
      },
      "source": [
        "# label_columns = y_train.columns.values\n",
        "# label_count = {}\n",
        "# for i in label_columns:\n",
        "#   label_count[i] = sum(y_train[i])\n",
        "#   # print(i + \" : \" + str(sum(y_train[i])))\n",
        "# side_effects = sorted(label_count, key=label_count.get)\n",
        "# side_effects.reverse()"
      ],
      "execution_count": null,
      "outputs": []
    },
    {
      "cell_type": "code",
      "metadata": {
        "id": "djRrQIxo7Jtu"
      },
      "source": [
        "from keras.models import load_model\n",
        "model1 = load_model(\"final2.h5\")"
      ],
      "execution_count": null,
      "outputs": []
    },
    {
      "cell_type": "code",
      "metadata": {
        "colab": {
          "base_uri": "https://localhost:8080/"
        },
        "id": "ZBDD3w_VkmdJ",
        "outputId": "d02259ee-79a1-4bc2-c2df-e5ce66a1ec56"
      },
      "source": [
        "model1.evaluate(X_test, y_test)"
      ],
      "execution_count": null,
      "outputs": [
        {
          "output_type": "stream",
          "text": [
            "17/17 [==============================] - 0s 1ms/step - loss: 0.3487 - accuracy: 0.7519\n"
          ],
          "name": "stdout"
        },
        {
          "output_type": "execute_result",
          "data": {
            "text/plain": [
              "[0.34867364168167114, 0.751893937587738]"
            ]
          },
          "metadata": {
            "tags": []
          },
          "execution_count": 18
        }
      ]
    },
    {
      "cell_type": "code",
      "metadata": {
        "id": "lEV6NVdqk-KF"
      },
      "source": [
        "x = X_train.iloc[:1]"
      ],
      "execution_count": null,
      "outputs": []
    },
    {
      "cell_type": "code",
      "metadata": {
        "id": "kv68DsEAtYHt",
        "colab": {
          "base_uri": "https://localhost:8080/",
          "height": 77
        },
        "outputId": "f320e841-ad5b-4e3a-c51c-163013281894"
      },
      "source": [
        "x"
      ],
      "execution_count": null,
      "outputs": [
        {
          "output_type": "execute_result",
          "data": {
            "text/html": [
              "<div>\n",
              "<style scoped>\n",
              "    .dataframe tbody tr th:only-of-type {\n",
              "        vertical-align: middle;\n",
              "    }\n",
              "\n",
              "    .dataframe tbody tr th {\n",
              "        vertical-align: top;\n",
              "    }\n",
              "\n",
              "    .dataframe thead th {\n",
              "        text-align: right;\n",
              "    }\n",
              "</style>\n",
              "<table border=\"1\" class=\"dataframe\">\n",
              "  <thead>\n",
              "    <tr style=\"text-align: right;\">\n",
              "      <th></th>\n",
              "      <th>AGE_YRS</th>\n",
              "      <th>SEX</th>\n",
              "      <th>VAX_NAME</th>\n",
              "      <th>Hypertension</th>\n",
              "      <th>Asthma</th>\n",
              "      <th>Diabetes</th>\n",
              "      <th>Corona</th>\n",
              "      <th>Hypothyroidism</th>\n",
              "      <th>Hyperlipidemia</th>\n",
              "      <th>Chelestrol</th>\n",
              "      <th>Depression</th>\n",
              "      <th>Obesity</th>\n",
              "      <th>Kidney</th>\n",
              "    </tr>\n",
              "  </thead>\n",
              "  <tbody>\n",
              "    <tr>\n",
              "      <th>4944</th>\n",
              "      <td>39.0</td>\n",
              "      <td>0.0</td>\n",
              "      <td>0.0</td>\n",
              "      <td>0</td>\n",
              "      <td>0</td>\n",
              "      <td>0</td>\n",
              "      <td>0</td>\n",
              "      <td>0</td>\n",
              "      <td>0</td>\n",
              "      <td>0</td>\n",
              "      <td>0</td>\n",
              "      <td>0</td>\n",
              "      <td>0</td>\n",
              "    </tr>\n",
              "  </tbody>\n",
              "</table>\n",
              "</div>"
            ],
            "text/plain": [
              "      AGE_YRS  SEX  VAX_NAME  ...  Depression  Obesity  Kidney\n",
              "4944     39.0  0.0       0.0  ...           0        0       0\n",
              "\n",
              "[1 rows x 13 columns]"
            ]
          },
          "metadata": {
            "tags": []
          },
          "execution_count": 35
        }
      ]
    },
    {
      "cell_type": "code",
      "metadata": {
        "id": "rVEohOhNnKvg"
      },
      "source": [
        "x = np.array(x)"
      ],
      "execution_count": null,
      "outputs": []
    },
    {
      "cell_type": "code",
      "metadata": {
        "colab": {
          "base_uri": "https://localhost:8080/"
        },
        "id": "xl-7PcSCnUwE",
        "outputId": "126370e1-d4d4-4a5f-fcb8-170970ac0ea9"
      },
      "source": [
        "x"
      ],
      "execution_count": null,
      "outputs": [
        {
          "output_type": "execute_result",
          "data": {
            "text/plain": [
              "array([[39.,  0.,  0.,  0.,  0.,  0.,  0.,  0.,  0.,  0.,  0.,  0.,  0.]])"
            ]
          },
          "metadata": {
            "tags": []
          },
          "execution_count": 37
        }
      ]
    },
    {
      "cell_type": "code",
      "metadata": {
        "colab": {
          "base_uri": "https://localhost:8080/"
        },
        "id": "YizWpTwmsJnj",
        "outputId": "6085c78e-f2cc-4498-a742-6e9c079c6058"
      },
      "source": [
        "x.shape"
      ],
      "execution_count": null,
      "outputs": [
        {
          "output_type": "execute_result",
          "data": {
            "text/plain": [
              "(1, 13)"
            ]
          },
          "metadata": {
            "tags": []
          },
          "execution_count": 38
        }
      ]
    },
    {
      "cell_type": "code",
      "metadata": {
        "id": "L0WCB7KGndOS"
      },
      "source": [
        "y = model1.predict(x)"
      ],
      "execution_count": null,
      "outputs": []
    },
    {
      "cell_type": "code",
      "metadata": {
        "colab": {
          "base_uri": "https://localhost:8080/"
        },
        "id": "iYcsc9pPnhPo",
        "outputId": "8b6ee75e-f4e9-427c-d95f-1a250c1928c8"
      },
      "source": [
        "y"
      ],
      "execution_count": null,
      "outputs": [
        {
          "output_type": "execute_result",
          "data": {
            "text/plain": [
              "array([[0.37692618, 0.2647273 , 0.2623096 , 0.29021943, 0.26420328,\n",
              "        0.24752712, 0.23237008, 0.2513673 , 0.21942002, 0.18572035]],\n",
              "      dtype=float32)"
            ]
          },
          "metadata": {
            "tags": []
          },
          "execution_count": 23
        }
      ]
    },
    {
      "cell_type": "code",
      "metadata": {
        "id": "WPM6oW9Cnh5m"
      },
      "source": [
        "symptoms_label = y_train.columns"
      ],
      "execution_count": null,
      "outputs": []
    },
    {
      "cell_type": "code",
      "metadata": {
        "colab": {
          "base_uri": "https://localhost:8080/"
        },
        "id": "CiwTZrtAnu7h",
        "outputId": "308179dd-a27d-4a4b-bf22-2df34ce23dc4"
      },
      "source": [
        "symptoms_label"
      ],
      "execution_count": null,
      "outputs": [
        {
          "output_type": "execute_result",
          "data": {
            "text/plain": [
              "Index(['Pain', 'Pyrexia', 'Headache', 'Dyspnoea', 'Fatigue', 'Chills',\n",
              "       'Dizziness', 'Nausea', 'Asthenia', 'Cough'],\n",
              "      dtype='object')"
            ]
          },
          "metadata": {
            "tags": []
          },
          "execution_count": 25
        }
      ]
    },
    {
      "cell_type": "code",
      "metadata": {
        "colab": {
          "base_uri": "https://localhost:8080/",
          "height": 35
        },
        "id": "OtuvX0HfnyYu",
        "outputId": "6c9d7554-b244-4fc3-d112-d72f12771fc3"
      },
      "source": [
        "symptoms_label[1]"
      ],
      "execution_count": null,
      "outputs": [
        {
          "output_type": "execute_result",
          "data": {
            "application/vnd.google.colaboratory.intrinsic+json": {
              "type": "string"
            },
            "text/plain": [
              "'Pyrexia'"
            ]
          },
          "metadata": {
            "tags": []
          },
          "execution_count": 26
        }
      ]
    },
    {
      "cell_type": "code",
      "metadata": {
        "colab": {
          "base_uri": "https://localhost:8080/"
        },
        "id": "1mJKhzGgpMGQ",
        "outputId": "cba72cd6-4754-4032-9e3d-96d99eda60e9"
      },
      "source": [
        "indices = (-y).argsort()[:3]\n",
        "indices"
      ],
      "execution_count": null,
      "outputs": [
        {
          "output_type": "execute_result",
          "data": {
            "text/plain": [
              "array([[0, 3, 1, 4, 2, 7, 5, 6, 8, 9]])"
            ]
          },
          "metadata": {
            "tags": []
          },
          "execution_count": 27
        }
      ]
    },
    {
      "cell_type": "code",
      "metadata": {
        "colab": {
          "base_uri": "https://localhost:8080/"
        },
        "id": "duzzAwzb0ICK",
        "outputId": "ce2b3f70-6ec8-40c0-c29e-878f7272fed4"
      },
      "source": [
        "y.shape"
      ],
      "execution_count": null,
      "outputs": [
        {
          "output_type": "execute_result",
          "data": {
            "text/plain": [
              "(1, 10)"
            ]
          },
          "metadata": {
            "tags": []
          },
          "execution_count": 28
        }
      ]
    },
    {
      "cell_type": "code",
      "metadata": {
        "colab": {
          "base_uri": "https://localhost:8080/"
        },
        "id": "twqlIAntq7lk",
        "outputId": "ffdfcfd8-38b0-4fc6-ff81-019acc8ba7a3"
      },
      "source": [
        "values = []\n",
        "labels = []\n",
        "for count in range(3):\n",
        "  idx = np.where(indices==count)\n",
        "  print(len(idx))\n",
        "  values.append(y[0][idx[1][0]])\n",
        "  labels.append(symptoms_label[idx[1][0]])\n"
      ],
      "execution_count": null,
      "outputs": [
        {
          "output_type": "stream",
          "text": [
            "2\n",
            "2\n",
            "2\n"
          ],
          "name": "stdout"
        }
      ]
    },
    {
      "cell_type": "code",
      "metadata": {
        "colab": {
          "base_uri": "https://localhost:8080/"
        },
        "id": "YdD6rbjouPSj",
        "outputId": "25e69f2c-6b95-44d2-df08-911816ae9755"
      },
      "source": [
        "values\n",
        "labels"
      ],
      "execution_count": null,
      "outputs": [
        {
          "output_type": "execute_result",
          "data": {
            "text/plain": [
              "['Pain', 'Headache', 'Fatigue']"
            ]
          },
          "metadata": {
            "tags": []
          },
          "execution_count": 30
        }
      ]
    },
    {
      "cell_type": "code",
      "metadata": {
        "colab": {
          "base_uri": "https://localhost:8080/",
          "height": 542
        },
        "id": "VjJGxwV7n0lP",
        "outputId": "a5b0d55f-1405-4c6a-e428-131c887bab27"
      },
      "source": [
        "import plotly.graph_objects as go\n",
        "\n",
        "fig = go.Figure(data=[go.Pie(labels=labels, values=values)])\n",
        "fig.show()"
      ],
      "execution_count": null,
      "outputs": [
        {
          "output_type": "display_data",
          "data": {
            "text/html": [
              "<html>\n",
              "<head><meta charset=\"utf-8\" /></head>\n",
              "<body>\n",
              "    <div>\n",
              "            <script src=\"https://cdnjs.cloudflare.com/ajax/libs/mathjax/2.7.5/MathJax.js?config=TeX-AMS-MML_SVG\"></script><script type=\"text/javascript\">if (window.MathJax) {MathJax.Hub.Config({SVG: {font: \"STIX-Web\"}});}</script>\n",
              "                <script type=\"text/javascript\">window.PlotlyConfig = {MathJaxConfig: 'local'};</script>\n",
              "        <script src=\"https://cdn.plot.ly/plotly-latest.min.js\"></script>    \n",
              "            <div id=\"50fe84b3-00c8-4887-83a7-8c24dcf3ca0b\" class=\"plotly-graph-div\" style=\"height:525px; width:100%;\"></div>\n",
              "            <script type=\"text/javascript\">\n",
              "                \n",
              "                    window.PLOTLYENV=window.PLOTLYENV || {};\n",
              "                    \n",
              "                if (document.getElementById(\"50fe84b3-00c8-4887-83a7-8c24dcf3ca0b\")) {\n",
              "                    Plotly.newPlot(\n",
              "                        '50fe84b3-00c8-4887-83a7-8c24dcf3ca0b',\n",
              "                        [{\"labels\": [\"Pain\", \"Headache\", \"Fatigue\"], \"type\": \"pie\", \"values\": [0.3769261837005615, 0.26230961084365845, 0.264203280210495]}],\n",
              "                        {\"template\": {\"data\": {\"bar\": [{\"error_x\": {\"color\": \"#2a3f5f\"}, \"error_y\": {\"color\": \"#2a3f5f\"}, \"marker\": {\"line\": {\"color\": \"#E5ECF6\", \"width\": 0.5}}, \"type\": \"bar\"}], \"barpolar\": [{\"marker\": {\"line\": {\"color\": \"#E5ECF6\", \"width\": 0.5}}, \"type\": \"barpolar\"}], \"carpet\": [{\"aaxis\": {\"endlinecolor\": \"#2a3f5f\", \"gridcolor\": \"white\", \"linecolor\": \"white\", \"minorgridcolor\": \"white\", \"startlinecolor\": \"#2a3f5f\"}, \"baxis\": {\"endlinecolor\": \"#2a3f5f\", \"gridcolor\": \"white\", \"linecolor\": \"white\", \"minorgridcolor\": \"white\", \"startlinecolor\": \"#2a3f5f\"}, \"type\": \"carpet\"}], \"choropleth\": [{\"colorbar\": {\"outlinewidth\": 0, \"ticks\": \"\"}, \"type\": \"choropleth\"}], \"contour\": [{\"colorbar\": {\"outlinewidth\": 0, \"ticks\": \"\"}, \"colorscale\": [[0.0, \"#0d0887\"], [0.1111111111111111, \"#46039f\"], [0.2222222222222222, \"#7201a8\"], [0.3333333333333333, \"#9c179e\"], [0.4444444444444444, \"#bd3786\"], [0.5555555555555556, \"#d8576b\"], [0.6666666666666666, \"#ed7953\"], [0.7777777777777778, \"#fb9f3a\"], [0.8888888888888888, \"#fdca26\"], [1.0, \"#f0f921\"]], \"type\": \"contour\"}], \"contourcarpet\": [{\"colorbar\": {\"outlinewidth\": 0, \"ticks\": \"\"}, \"type\": \"contourcarpet\"}], \"heatmap\": [{\"colorbar\": {\"outlinewidth\": 0, \"ticks\": \"\"}, \"colorscale\": [[0.0, \"#0d0887\"], [0.1111111111111111, \"#46039f\"], [0.2222222222222222, \"#7201a8\"], [0.3333333333333333, \"#9c179e\"], [0.4444444444444444, \"#bd3786\"], [0.5555555555555556, \"#d8576b\"], [0.6666666666666666, \"#ed7953\"], [0.7777777777777778, \"#fb9f3a\"], [0.8888888888888888, \"#fdca26\"], [1.0, \"#f0f921\"]], \"type\": \"heatmap\"}], \"heatmapgl\": [{\"colorbar\": {\"outlinewidth\": 0, \"ticks\": \"\"}, \"colorscale\": [[0.0, \"#0d0887\"], [0.1111111111111111, \"#46039f\"], [0.2222222222222222, \"#7201a8\"], [0.3333333333333333, \"#9c179e\"], [0.4444444444444444, \"#bd3786\"], [0.5555555555555556, \"#d8576b\"], [0.6666666666666666, \"#ed7953\"], [0.7777777777777778, \"#fb9f3a\"], [0.8888888888888888, \"#fdca26\"], [1.0, \"#f0f921\"]], \"type\": \"heatmapgl\"}], \"histogram\": [{\"marker\": {\"colorbar\": {\"outlinewidth\": 0, \"ticks\": \"\"}}, \"type\": \"histogram\"}], \"histogram2d\": [{\"colorbar\": {\"outlinewidth\": 0, \"ticks\": \"\"}, \"colorscale\": [[0.0, \"#0d0887\"], [0.1111111111111111, \"#46039f\"], [0.2222222222222222, \"#7201a8\"], [0.3333333333333333, \"#9c179e\"], [0.4444444444444444, \"#bd3786\"], [0.5555555555555556, \"#d8576b\"], [0.6666666666666666, \"#ed7953\"], [0.7777777777777778, \"#fb9f3a\"], [0.8888888888888888, \"#fdca26\"], [1.0, \"#f0f921\"]], \"type\": \"histogram2d\"}], \"histogram2dcontour\": [{\"colorbar\": {\"outlinewidth\": 0, \"ticks\": \"\"}, \"colorscale\": [[0.0, \"#0d0887\"], [0.1111111111111111, \"#46039f\"], [0.2222222222222222, \"#7201a8\"], [0.3333333333333333, \"#9c179e\"], [0.4444444444444444, \"#bd3786\"], [0.5555555555555556, \"#d8576b\"], [0.6666666666666666, \"#ed7953\"], [0.7777777777777778, \"#fb9f3a\"], [0.8888888888888888, \"#fdca26\"], [1.0, \"#f0f921\"]], \"type\": \"histogram2dcontour\"}], \"mesh3d\": [{\"colorbar\": {\"outlinewidth\": 0, \"ticks\": \"\"}, \"type\": \"mesh3d\"}], \"parcoords\": [{\"line\": {\"colorbar\": {\"outlinewidth\": 0, \"ticks\": \"\"}}, \"type\": \"parcoords\"}], \"pie\": [{\"automargin\": true, \"type\": \"pie\"}], \"scatter\": [{\"marker\": {\"colorbar\": {\"outlinewidth\": 0, \"ticks\": \"\"}}, \"type\": \"scatter\"}], \"scatter3d\": [{\"line\": {\"colorbar\": {\"outlinewidth\": 0, \"ticks\": \"\"}}, \"marker\": {\"colorbar\": {\"outlinewidth\": 0, \"ticks\": \"\"}}, \"type\": \"scatter3d\"}], \"scattercarpet\": [{\"marker\": {\"colorbar\": {\"outlinewidth\": 0, \"ticks\": \"\"}}, \"type\": \"scattercarpet\"}], \"scattergeo\": [{\"marker\": {\"colorbar\": {\"outlinewidth\": 0, \"ticks\": \"\"}}, \"type\": \"scattergeo\"}], \"scattergl\": [{\"marker\": {\"colorbar\": {\"outlinewidth\": 0, \"ticks\": \"\"}}, \"type\": \"scattergl\"}], \"scattermapbox\": [{\"marker\": {\"colorbar\": {\"outlinewidth\": 0, \"ticks\": \"\"}}, \"type\": \"scattermapbox\"}], \"scatterpolar\": [{\"marker\": {\"colorbar\": {\"outlinewidth\": 0, \"ticks\": \"\"}}, \"type\": \"scatterpolar\"}], \"scatterpolargl\": [{\"marker\": {\"colorbar\": {\"outlinewidth\": 0, \"ticks\": \"\"}}, \"type\": \"scatterpolargl\"}], \"scatterternary\": [{\"marker\": {\"colorbar\": {\"outlinewidth\": 0, \"ticks\": \"\"}}, \"type\": \"scatterternary\"}], \"surface\": [{\"colorbar\": {\"outlinewidth\": 0, \"ticks\": \"\"}, \"colorscale\": [[0.0, \"#0d0887\"], [0.1111111111111111, \"#46039f\"], [0.2222222222222222, \"#7201a8\"], [0.3333333333333333, \"#9c179e\"], [0.4444444444444444, \"#bd3786\"], [0.5555555555555556, \"#d8576b\"], [0.6666666666666666, \"#ed7953\"], [0.7777777777777778, \"#fb9f3a\"], [0.8888888888888888, \"#fdca26\"], [1.0, \"#f0f921\"]], \"type\": \"surface\"}], \"table\": [{\"cells\": {\"fill\": {\"color\": \"#EBF0F8\"}, \"line\": {\"color\": \"white\"}}, \"header\": {\"fill\": {\"color\": \"#C8D4E3\"}, \"line\": {\"color\": \"white\"}}, \"type\": \"table\"}]}, \"layout\": {\"annotationdefaults\": {\"arrowcolor\": \"#2a3f5f\", \"arrowhead\": 0, \"arrowwidth\": 1}, \"coloraxis\": {\"colorbar\": {\"outlinewidth\": 0, \"ticks\": \"\"}}, \"colorscale\": {\"diverging\": [[0, \"#8e0152\"], [0.1, \"#c51b7d\"], [0.2, \"#de77ae\"], [0.3, \"#f1b6da\"], [0.4, \"#fde0ef\"], [0.5, \"#f7f7f7\"], [0.6, \"#e6f5d0\"], [0.7, \"#b8e186\"], [0.8, \"#7fbc41\"], [0.9, \"#4d9221\"], [1, \"#276419\"]], \"sequential\": [[0.0, \"#0d0887\"], [0.1111111111111111, \"#46039f\"], [0.2222222222222222, \"#7201a8\"], [0.3333333333333333, \"#9c179e\"], [0.4444444444444444, \"#bd3786\"], [0.5555555555555556, \"#d8576b\"], [0.6666666666666666, \"#ed7953\"], [0.7777777777777778, \"#fb9f3a\"], [0.8888888888888888, \"#fdca26\"], [1.0, \"#f0f921\"]], \"sequentialminus\": [[0.0, \"#0d0887\"], [0.1111111111111111, \"#46039f\"], [0.2222222222222222, \"#7201a8\"], [0.3333333333333333, \"#9c179e\"], [0.4444444444444444, \"#bd3786\"], [0.5555555555555556, \"#d8576b\"], [0.6666666666666666, \"#ed7953\"], [0.7777777777777778, \"#fb9f3a\"], [0.8888888888888888, \"#fdca26\"], [1.0, \"#f0f921\"]]}, \"colorway\": [\"#636efa\", \"#EF553B\", \"#00cc96\", \"#ab63fa\", \"#FFA15A\", \"#19d3f3\", \"#FF6692\", \"#B6E880\", \"#FF97FF\", \"#FECB52\"], \"font\": {\"color\": \"#2a3f5f\"}, \"geo\": {\"bgcolor\": \"white\", \"lakecolor\": \"white\", \"landcolor\": \"#E5ECF6\", \"showlakes\": true, \"showland\": true, \"subunitcolor\": \"white\"}, \"hoverlabel\": {\"align\": \"left\"}, \"hovermode\": \"closest\", \"mapbox\": {\"style\": \"light\"}, \"paper_bgcolor\": \"white\", \"plot_bgcolor\": \"#E5ECF6\", \"polar\": {\"angularaxis\": {\"gridcolor\": \"white\", \"linecolor\": \"white\", \"ticks\": \"\"}, \"bgcolor\": \"#E5ECF6\", \"radialaxis\": {\"gridcolor\": \"white\", \"linecolor\": \"white\", \"ticks\": \"\"}}, \"scene\": {\"xaxis\": {\"backgroundcolor\": \"#E5ECF6\", \"gridcolor\": \"white\", \"gridwidth\": 2, \"linecolor\": \"white\", \"showbackground\": true, \"ticks\": \"\", \"zerolinecolor\": \"white\"}, \"yaxis\": {\"backgroundcolor\": \"#E5ECF6\", \"gridcolor\": \"white\", \"gridwidth\": 2, \"linecolor\": \"white\", \"showbackground\": true, \"ticks\": \"\", \"zerolinecolor\": \"white\"}, \"zaxis\": {\"backgroundcolor\": \"#E5ECF6\", \"gridcolor\": \"white\", \"gridwidth\": 2, \"linecolor\": \"white\", \"showbackground\": true, \"ticks\": \"\", \"zerolinecolor\": \"white\"}}, \"shapedefaults\": {\"line\": {\"color\": \"#2a3f5f\"}}, \"ternary\": {\"aaxis\": {\"gridcolor\": \"white\", \"linecolor\": \"white\", \"ticks\": \"\"}, \"baxis\": {\"gridcolor\": \"white\", \"linecolor\": \"white\", \"ticks\": \"\"}, \"bgcolor\": \"#E5ECF6\", \"caxis\": {\"gridcolor\": \"white\", \"linecolor\": \"white\", \"ticks\": \"\"}}, \"title\": {\"x\": 0.05}, \"xaxis\": {\"automargin\": true, \"gridcolor\": \"white\", \"linecolor\": \"white\", \"ticks\": \"\", \"title\": {\"standoff\": 15}, \"zerolinecolor\": \"white\", \"zerolinewidth\": 2}, \"yaxis\": {\"automargin\": true, \"gridcolor\": \"white\", \"linecolor\": \"white\", \"ticks\": \"\", \"title\": {\"standoff\": 15}, \"zerolinecolor\": \"white\", \"zerolinewidth\": 2}}}},\n",
              "                        {\"responsive\": true}\n",
              "                    ).then(function(){\n",
              "                            \n",
              "var gd = document.getElementById('50fe84b3-00c8-4887-83a7-8c24dcf3ca0b');\n",
              "var x = new MutationObserver(function (mutations, observer) {{\n",
              "        var display = window.getComputedStyle(gd).display;\n",
              "        if (!display || display === 'none') {{\n",
              "            console.log([gd, 'removed!']);\n",
              "            Plotly.purge(gd);\n",
              "            observer.disconnect();\n",
              "        }}\n",
              "}});\n",
              "\n",
              "// Listen for the removal of the full notebook cells\n",
              "var notebookContainer = gd.closest('#notebook-container');\n",
              "if (notebookContainer) {{\n",
              "    x.observe(notebookContainer, {childList: true});\n",
              "}}\n",
              "\n",
              "// Listen for the clearing of the current output cell\n",
              "var outputEl = gd.closest('.output');\n",
              "if (outputEl) {{\n",
              "    x.observe(outputEl, {childList: true});\n",
              "}}\n",
              "\n",
              "                        })\n",
              "                };\n",
              "                \n",
              "            </script>\n",
              "        </div>\n",
              "</body>\n",
              "</html>"
            ]
          },
          "metadata": {
            "tags": []
          }
        }
      ]
    },
    {
      "cell_type": "code",
      "metadata": {
        "id": "czIETYR80enI",
        "colab": {
          "base_uri": "https://localhost:8080/"
        },
        "outputId": "bf88dbf9-a3c1-43e4-de79-9c32fae53565"
      },
      "source": [
        "X_train.columns"
      ],
      "execution_count": null,
      "outputs": [
        {
          "output_type": "execute_result",
          "data": {
            "text/plain": [
              "Index(['AGE_YRS', 'SEX', 'VAX_NAME', 'Hypertension', 'Asthma', 'Diabetes',\n",
              "       'Corona', 'Hypothyroidism', 'Hyperlipidemia', 'Chelestrol',\n",
              "       'Depression', 'Obesity', 'Kidney'],\n",
              "      dtype='object')"
            ]
          },
          "metadata": {
            "tags": []
          },
          "execution_count": 32
        }
      ]
    },
    {
      "cell_type": "code",
      "metadata": {
        "id": "570TYmHaiLVT"
      },
      "source": [
        ""
      ],
      "execution_count": null,
      "outputs": []
    }
  ]
}